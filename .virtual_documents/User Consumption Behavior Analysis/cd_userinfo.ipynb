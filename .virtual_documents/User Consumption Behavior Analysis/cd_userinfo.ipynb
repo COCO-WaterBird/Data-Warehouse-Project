# user_id, order_dt, order_products, order_amount
# data between Jan 1997 - Jun 1998, about 60000 rows


import numpy as np
import pandas as pd
import matplotlib.pyplot as plt
from datetime import datetime
%matplotlib inline
plt.style.use('ggplot')


columns = ['user_id','order_dt','order_products','order_amount']
df = pd.read_table('CDNOW_master.txt',names=columns,sep='\s+')


df.head()


# transform date
# one customer has multiple orders in oneday
df.describe()
# mean.product 2.4, std.product 2.3, 75% 2~3 products
# per order_amount,small amount 30~45


df.info()
# 69659 means non null,date's type is int64





df['order_date'] = pd.to_datetime(df['order_dt'],format='%Y%m%d')
# order_date to month
df['month'] = df['order_date'].dt.to_period('M')
df.head()


#trend analysis
plt.figure(figsize=(20,15))
# product by month
df.groupby(by='month')['order_products'].sum().plot()
plt.title('Monthly Product Purchase Quantity')



